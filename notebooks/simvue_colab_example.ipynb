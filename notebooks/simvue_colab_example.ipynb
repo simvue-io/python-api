{
  "cells": [
    {
      "cell_type": "markdown",
      "metadata": {
        "colab_type": "text",
        "id": "view-in-github"
      },
      "source": [
        "<a href=\"https://colab.research.google.com/drive/14pg396pZ8hSWZJKisVa3d887rH7yLnEX?usp=sharing\" target=\"_parent\"><img src=\"https://colab.research.google.com/assets/colab-badge.svg\" alt=\"Open In Colab\"/></a>\n"
      ]
    },
    {
      "cell_type": "markdown",
      "metadata": {
        "colab_type": "text",
        "id": "-pVhOfzLx9us"
      },
      "source": [
        "<p align=\"center\">\n",
        "  <picture>\n",
        "    <source media=\"(prefers-color-scheme: dark)\" srcset=\"https://raw.githubusercontent.com/simvue-io/.github/refs/heads/main/simvue-white.png\" />\n",
        "    <source media=\"(prefers-color-scheme: light)\" srcset=\"https://raw.githubusercontent.com/simvue-io/.github/refs/heads/main/simvue-black.png\" />\n",
        "    <img alt=\"Simvue\" src=\"https://github.com/simvue-io/.github/blob/5eb8cfd2edd3269259eccd508029f269d993282f/simvue-black.png\" width=\"500\">\n",
        "  </picture>\n",
        "</p>\n",
        "\n",
        "# Basic Example\n",
        "This is a basic example of some of the functionality of Simvue. For a more detailed example which introduces more features, [see the tutorial here](https://docs.simvue.io/tutorial_basic/introduction/).\n",
        "\n"
      ]
    },
    {
      "cell_type": "markdown",
      "metadata": {},
      "source": [
        "### Install dependencies\n",
        "Install any dependencies if you have not already done so:"
      ]
    },
    {
      "cell_type": "code",
      "execution_count": null,
      "metadata": {},
      "outputs": [],
      "source": [
        "!pip install simvue numpy"
      ]
    },
    {
      "cell_type": "markdown",
      "metadata": {
        "colab_type": "text",
        "id": "wKJ4bd5rt1wy"
      },
      "source": [
        "\n",
        "### Initialisation\n",
        "To proceed you need to specify the URL of the Simvue server and provide an access token used to authenticate to the server. This can be done by either creating a `simvue.toml` file containing the required details, or specifying them as environment variables.\n",
        "\n",
        "Login to https://app.simvue.io, go to the **Runs** page and click **Create new run**. Copy the 'token' from here. The run the cell below, paste the token into the box when prompted and push enter."
      ]
    },
    {
      "cell_type": "code",
      "execution_count": null,
      "metadata": {},
      "outputs": [],
      "source": [
        "import os\n",
        "import getpass\n",
        "\n",
        "os.environ[\"SIMVUE_URL\"] = \"https://nightly.simvue.io\"\n",
        "os.environ[\"SIMVUE_TOKEN\"] = getpass.getpass(prompt=\"Token: \")"
      ]
    },
    {
      "cell_type": "markdown",
      "metadata": {},
      "source": [
        "### Example Simulation - Random Numbers\n",
        "As a simple example, we are going to create a piece of code which generates a sequence of random numbers over time, and calculates the mean and median values. We will want to track how these averages vary over time, and have Simvue trigger an alert if they fall outside of expected parameters.\n",
        "\n",
        "The first thing we want to do is initialize our Simvue run. To do this we import the `Run` object from Simvue, and use it as a context manager:"
      ]
    },
    {
      "cell_type": "code",
      "execution_count": null,
      "metadata": {},
      "outputs": [],
      "source": [
        "from simvue import Run\n",
        "import time\n",
        "import random\n",
        "import numpy\n",
        "\n",
        "with Run() as run:\n",
        "    # Initialize a run on the server, optionally providing a name, tags, folder etc\n",
        "    run.init(\n",
        "        name=\"random-numbers-example-%d\" % time.time(),\n",
        "        tags=[\"example\", \"random-numbers\"],\n",
        "        folder=\"/examples\",\n",
        "    )\n",
        "    \n",
        "    # Initialise an empty array which expects integers to store our random numbers in\n",
        "    all_numbers = numpy.array([], dtype=numpy.int64)  \n",
        "    \n",
        "    # Create our 'simulation' to track\n",
        "    for i in range(0, 120):\n",
        "        \n",
        "        # Generate random numbers and find the averages\n",
        "        random_number = random.randint(0, 10)\n",
        "        all_numbers = numpy.append(all_numbers, random_number)\n",
        "        mean = float(numpy.average(all_numbers))\n",
        "        median = int(numpy.median(all_numbers)) \n",
        "        \n",
        "        # We can then use simvue to track the values of these metrics\n",
        "        run.log_metrics(\n",
        "            {\n",
        "                \"random_number\": random_number,\n",
        "                \"average.mean\": mean,\n",
        "                \"average.median\": median\n",
        "            }\n",
        "        )\n",
        "        time.sleep(1)     \n",
        "    \n",
        "    # Once complete, we can add a message to the events log\n",
        "    run.log_event(\"Random number generation is complete!\")\n"
      ]
    },
    {
      "cell_type": "markdown",
      "metadata": {},
      "source": [
        "### Results\n",
        "You can view the results of this by logging into the web UI and viewing the run at the link above. You should be able to see a new run has been created and metrics from the above simulation are updating live as the simulation progresses.\n",
        "\n",
        "This only scratches the surface of what Simvue can do! You can also:\n",
        "- Upload input, output or code files for storage as Artifacts\n",
        "- Upload Python objects such as Numpy arrays or dictionaries for storage\n",
        "- Add tags and metadata for easier categorisation and filtering of runs\n",
        "- Setup alerts based on metrics or events which will inform you if things go wrong\n",
        "- Track the carbon emissions associated with your simulations, so you can find ways to reduce them\n",
        "- Run programs as subprocesses, allowing simvue to track their logs and alert the user if they fail\n",
        "- Track outputs from non-Python programs using the [Multiparser](https://github.com/ukaea/Multiparser)\n",
        "- Easily track outputs from common software packages using the custom [Integrations](https://github.com/simvue-io/integrations)\n",
        "\n"
      ]
    }
  ],
  "metadata": {
    "colab": {
      "collapsed_sections": [],
      "name": "colab-github-demo.ipynb",
      "provenance": [],
      "version": "0.3.2"
    },
    "kernelspec": {
      "display_name": "Python 3",
      "language": "python",
      "name": "python3"
    },
    "language_info": {
      "codemirror_mode": {
        "name": "ipython",
        "version": 3
      },
      "file_extension": ".py",
      "mimetype": "text/x-python",
      "name": "python",
      "nbconvert_exporter": "python",
      "pygments_lexer": "ipython3",
      "version": "3.10.14"
    }
  },
  "nbformat": 4,
  "nbformat_minor": 0
}
