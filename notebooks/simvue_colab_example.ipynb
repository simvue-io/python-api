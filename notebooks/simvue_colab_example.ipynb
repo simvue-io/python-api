{
  "cells": [
    {
      "cell_type": "markdown",
      "metadata": {
        "colab_type": "text",
        "id": "view-in-github"
      },
      "source": [
        "<a href=\"https://colab.research.google.com/drive/14pg396pZ8hSWZJKisVa3d887rH7yLnEX?usp=sharing\" target=\"_parent\"><img src=\"https://colab.research.google.com/assets/colab-badge.svg\" alt=\"Open In Colab\"/></a>\n"
      ]
    },
    {
      "cell_type": "markdown",
      "metadata": {
        "colab_type": "text",
        "id": "-pVhOfzLx9us"
      },
      "source": [
        "<p align=\"center\">\n",
        "  <picture>\n",
        "    <source media=\"(prefers-color-scheme: dark)\" srcset=\"https://raw.githubusercontent.com/simvue-io/.github/refs/heads/main/simvue-white.png\" />\n",
        "    <source media=\"(prefers-color-scheme: light)\" srcset=\"https://raw.githubusercontent.com/simvue-io/.github/refs/heads/main/simvue-black.png\" />\n",
        "    <img alt=\"Simvue\" src=\"https://github.com/simvue-io/.github/blob/5eb8cfd2edd3269259eccd508029f269d993282f/simvue-black.png\" width=\"500\">\n",
        "  </picture>\n",
        "</p>\n",
        "\n",
        "# Basic Example\n",
        "This is a basic example of some of the functionality of Simvue. For a more detailed example which introduces more features, [see the tutorial here](https://docs.simvue.io/tutorial_basic/introduction/).\n",
        "\n"
      ]
    },
    {
      "cell_type": "markdown",
      "metadata": {},
      "source": [
        "### Install dependencies\n",
        "Install any dependencies if you have not already done so:"
      ]
    },
    {
      "cell_type": "code",
      "execution_count": 5,
      "metadata": {},
      "outputs": [
        {
          "name": "stdout",
          "output_type": "stream",
          "text": [
            "Requirement already satisfied: simvue==2.0.0a1 in /home/wk9874/.pyenv/versions/3.10.14/lib/python3.10/site-packages (2.0.0a1)\n",
            "Requirement already satisfied: numpy in /home/wk9874/.pyenv/versions/3.10.14/lib/python3.10/site-packages (2.2.3)\n",
            "Requirement already satisfied: codecarbon<3.0.0,>=2.8.3 in /home/wk9874/.pyenv/versions/3.10.14/lib/python3.10/site-packages (from simvue==2.0.0a1) (2.8.3)\n",
            "Requirement already satisfied: randomname<0.3.0,>=0.2.1 in /home/wk9874/.pyenv/versions/3.10.14/lib/python3.10/site-packages (from simvue==2.0.0a1) (0.2.1)\n",
            "Requirement already satisfied: requests<3.0.0,>=2.32.3 in /home/wk9874/.pyenv/versions/3.10.14/lib/python3.10/site-packages (from simvue==2.0.0a1) (2.32.3)\n",
            "Requirement already satisfied: tenacity<10.0.0,>=9.0.0 in /home/wk9874/.pyenv/versions/3.10.14/lib/python3.10/site-packages (from simvue==2.0.0a1) (9.0.0)\n",
            "Requirement already satisfied: semver<4.0.0,>=3.0.4 in /home/wk9874/.pyenv/versions/3.10.14/lib/python3.10/site-packages (from simvue==2.0.0a1) (3.0.4)\n",
            "Requirement already satisfied: humanfriendly<11.0,>=10.0 in /home/wk9874/.pyenv/versions/3.10.14/lib/python3.10/site-packages (from simvue==2.0.0a1) (10.0)\n",
            "Requirement already satisfied: click<9.0.0,>=8.1.8 in /home/wk9874/.pyenv/versions/3.10.14/lib/python3.10/site-packages (from simvue==2.0.0a1) (8.1.8)\n",
            "Requirement already satisfied: psutil<7.0.0,>=6.1.1 in /home/wk9874/.pyenv/versions/3.10.14/lib/python3.10/site-packages (from simvue==2.0.0a1) (6.1.1)\n",
            "Requirement already satisfied: deepmerge<3.0,>=2.0 in /home/wk9874/.pyenv/versions/3.10.14/lib/python3.10/site-packages (from simvue==2.0.0a1) (2.0)\n",
            "Requirement already satisfied: tabulate<0.10.0,>=0.9.0 in /home/wk9874/.pyenv/versions/3.10.14/lib/python3.10/site-packages (from simvue==2.0.0a1) (0.9.0)\n",
            "Requirement already satisfied: typing-extensions<5.0.0,>=4.12.2 in /home/wk9874/.pyenv/versions/3.10.14/lib/python3.10/site-packages (from simvue==2.0.0a1) (4.12.2)\n",
            "Requirement already satisfied: pydantic<3.0.0,>=2.10.6 in /home/wk9874/.pyenv/versions/3.10.14/lib/python3.10/site-packages (from simvue==2.0.0a1) (2.10.6)\n",
            "Requirement already satisfied: toml<0.11.0,>=0.10.2 in /home/wk9874/.pyenv/versions/3.10.14/lib/python3.10/site-packages (from simvue==2.0.0a1) (0.10.2)\n",
            "Requirement already satisfied: gitpython<4.0.0,>=3.1.44 in /home/wk9874/.pyenv/versions/3.10.14/lib/python3.10/site-packages (from simvue==2.0.0a1) (3.1.44)\n",
            "Requirement already satisfied: pyjwt<3.0.0,>=2.10.1 in /home/wk9874/.pyenv/versions/3.10.14/lib/python3.10/site-packages (from simvue==2.0.0a1) (2.10.1)\n",
            "Requirement already satisfied: email-validator<3.0.0,>=2.2.0 in /home/wk9874/.pyenv/versions/3.10.14/lib/python3.10/site-packages (from simvue==2.0.0a1) (2.2.0)\n",
            "Requirement already satisfied: pandas<3.0.0,>=2.2.3 in /home/wk9874/.pyenv/versions/3.10.14/lib/python3.10/site-packages (from simvue==2.0.0a1) (2.2.3)\n",
            "Requirement already satisfied: msgpack<2.0.0,>=1.1.0 in /home/wk9874/.pyenv/versions/3.10.14/lib/python3.10/site-packages (from simvue==2.0.0a1) (1.1.0)\n",
            "Requirement already satisfied: flatdict<5.0.0,>=4.0.1 in /home/wk9874/.pyenv/versions/3.10.14/lib/python3.10/site-packages (from simvue==2.0.0a1) (4.0.1)\n",
            "Requirement already satisfied: fief-client[cli] in /home/wk9874/.pyenv/versions/3.10.14/lib/python3.10/site-packages (from codecarbon<3.0.0,>=2.8.3->simvue==2.0.0a1) (0.20.0)\n",
            "Requirement already satisfied: arrow in /home/wk9874/.pyenv/versions/3.10.14/lib/python3.10/site-packages (from codecarbon<3.0.0,>=2.8.3->simvue==2.0.0a1) (1.3.0)\n",
            "Requirement already satisfied: typer in /home/wk9874/.pyenv/versions/3.10.14/lib/python3.10/site-packages (from codecarbon<3.0.0,>=2.8.3->simvue==2.0.0a1) (0.15.1)\n",
            "Requirement already satisfied: prometheus-client in /home/wk9874/.pyenv/versions/3.10.14/lib/python3.10/site-packages (from codecarbon<3.0.0,>=2.8.3->simvue==2.0.0a1) (0.21.1)\n",
            "Requirement already satisfied: questionary in /home/wk9874/.pyenv/versions/3.10.14/lib/python3.10/site-packages (from codecarbon<3.0.0,>=2.8.3->simvue==2.0.0a1) (2.1.0)\n",
            "Requirement already satisfied: rich in /home/wk9874/.pyenv/versions/3.10.14/lib/python3.10/site-packages (from codecarbon<3.0.0,>=2.8.3->simvue==2.0.0a1) (13.7.1)\n",
            "Requirement already satisfied: pynvml in /home/wk9874/.pyenv/versions/3.10.14/lib/python3.10/site-packages (from codecarbon<3.0.0,>=2.8.3->simvue==2.0.0a1) (12.0.0)\n",
            "Requirement already satisfied: py-cpuinfo in /home/wk9874/.pyenv/versions/3.10.14/lib/python3.10/site-packages (from codecarbon<3.0.0,>=2.8.3->simvue==2.0.0a1) (9.0.0)\n",
            "Requirement already satisfied: rapidfuzz in /home/wk9874/.pyenv/versions/3.10.14/lib/python3.10/site-packages (from codecarbon<3.0.0,>=2.8.3->simvue==2.0.0a1) (3.9.6)\n",
            "Requirement already satisfied: idna>=2.0.0 in /home/wk9874/.pyenv/versions/3.10.14/lib/python3.10/site-packages (from email-validator<3.0.0,>=2.2.0->simvue==2.0.0a1) (3.7)\n",
            "Requirement already satisfied: dnspython>=2.0.0 in /home/wk9874/.pyenv/versions/3.10.14/lib/python3.10/site-packages (from email-validator<3.0.0,>=2.2.0->simvue==2.0.0a1) (2.7.0)\n",
            "Requirement already satisfied: gitdb<5,>=4.0.1 in /home/wk9874/.pyenv/versions/3.10.14/lib/python3.10/site-packages (from gitpython<4.0.0,>=3.1.44->simvue==2.0.0a1) (4.0.12)\n",
            "Requirement already satisfied: tzdata>=2022.7 in /home/wk9874/.pyenv/versions/3.10.14/lib/python3.10/site-packages (from pandas<3.0.0,>=2.2.3->simvue==2.0.0a1) (2025.1)\n",
            "Requirement already satisfied: pytz>=2020.1 in /home/wk9874/.pyenv/versions/3.10.14/lib/python3.10/site-packages (from pandas<3.0.0,>=2.2.3->simvue==2.0.0a1) (2025.1)\n",
            "Requirement already satisfied: python-dateutil>=2.8.2 in /home/wk9874/.pyenv/versions/3.10.14/lib/python3.10/site-packages (from pandas<3.0.0,>=2.2.3->simvue==2.0.0a1) (2.9.0.post0)\n",
            "Requirement already satisfied: annotated-types>=0.6.0 in /home/wk9874/.pyenv/versions/3.10.14/lib/python3.10/site-packages (from pydantic<3.0.0,>=2.10.6->simvue==2.0.0a1) (0.7.0)\n",
            "Requirement already satisfied: pydantic-core==2.27.2 in /home/wk9874/.pyenv/versions/3.10.14/lib/python3.10/site-packages (from pydantic<3.0.0,>=2.10.6->simvue==2.0.0a1) (2.27.2)\n",
            "Requirement already satisfied: fire in /home/wk9874/.pyenv/versions/3.10.14/lib/python3.10/site-packages (from randomname<0.3.0,>=0.2.1->simvue==2.0.0a1) (0.7.0)\n",
            "Requirement already satisfied: certifi>=2017.4.17 in /home/wk9874/.pyenv/versions/3.10.14/lib/python3.10/site-packages (from requests<3.0.0,>=2.32.3->simvue==2.0.0a1) (2024.7.4)\n",
            "Requirement already satisfied: charset-normalizer<4,>=2 in /home/wk9874/.pyenv/versions/3.10.14/lib/python3.10/site-packages (from requests<3.0.0,>=2.32.3->simvue==2.0.0a1) (3.3.2)\n",
            "Requirement already satisfied: urllib3<3,>=1.21.1 in /home/wk9874/.pyenv/versions/3.10.14/lib/python3.10/site-packages (from requests<3.0.0,>=2.32.3->simvue==2.0.0a1) (2.2.2)\n",
            "Requirement already satisfied: smmap<6,>=3.0.1 in /home/wk9874/.pyenv/versions/3.10.14/lib/python3.10/site-packages (from gitdb<5,>=4.0.1->gitpython<4.0.0,>=3.1.44->simvue==2.0.0a1) (5.0.2)\n",
            "Requirement already satisfied: six>=1.5 in /home/wk9874/.pyenv/versions/3.10.14/lib/python3.10/site-packages (from python-dateutil>=2.8.2->pandas<3.0.0,>=2.2.3->simvue==2.0.0a1) (1.16.0)\n",
            "Requirement already satisfied: types-python-dateutil>=2.8.10 in /home/wk9874/.pyenv/versions/3.10.14/lib/python3.10/site-packages (from arrow->codecarbon<3.0.0,>=2.8.3->simvue==2.0.0a1) (2.9.0.20241206)\n",
            "Requirement already satisfied: jwcrypto<2.0.0,>=1.4 in /home/wk9874/.pyenv/versions/3.10.14/lib/python3.10/site-packages (from fief-client[cli]->codecarbon<3.0.0,>=2.8.3->simvue==2.0.0a1) (1.5.6)\n",
            "Requirement already satisfied: httpx<0.28.0,>=0.21.3 in /home/wk9874/.pyenv/versions/3.10.14/lib/python3.10/site-packages (from fief-client[cli]->codecarbon<3.0.0,>=2.8.3->simvue==2.0.0a1) (0.27.2)\n",
            "Requirement already satisfied: yaspin in /home/wk9874/.pyenv/versions/3.10.14/lib/python3.10/site-packages (from fief-client[cli]->codecarbon<3.0.0,>=2.8.3->simvue==2.0.0a1) (3.1.0)\n",
            "Requirement already satisfied: termcolor in /home/wk9874/.pyenv/versions/3.10.14/lib/python3.10/site-packages (from fire->randomname<0.3.0,>=0.2.1->simvue==2.0.0a1) (2.3.0)\n",
            "Requirement already satisfied: nvidia-ml-py<13.0.0a0,>=12.0.0 in /home/wk9874/.pyenv/versions/3.10.14/lib/python3.10/site-packages (from pynvml->codecarbon<3.0.0,>=2.8.3->simvue==2.0.0a1) (12.570.86)\n",
            "Requirement already satisfied: prompt_toolkit<4.0,>=2.0 in /home/wk9874/.pyenv/versions/3.10.14/lib/python3.10/site-packages (from questionary->codecarbon<3.0.0,>=2.8.3->simvue==2.0.0a1) (3.0.50)\n",
            "Requirement already satisfied: markdown-it-py>=2.2.0 in /home/wk9874/.pyenv/versions/3.10.14/lib/python3.10/site-packages (from rich->codecarbon<3.0.0,>=2.8.3->simvue==2.0.0a1) (3.0.0)\n",
            "Requirement already satisfied: pygments<3.0.0,>=2.13.0 in /home/wk9874/.pyenv/versions/3.10.14/lib/python3.10/site-packages (from rich->codecarbon<3.0.0,>=2.8.3->simvue==2.0.0a1) (2.18.0)\n",
            "Requirement already satisfied: shellingham>=1.3.0 in /home/wk9874/.pyenv/versions/3.10.14/lib/python3.10/site-packages (from typer->codecarbon<3.0.0,>=2.8.3->simvue==2.0.0a1) (1.5.4)\n",
            "Requirement already satisfied: httpcore==1.* in /home/wk9874/.pyenv/versions/3.10.14/lib/python3.10/site-packages (from httpx<0.28.0,>=0.21.3->fief-client[cli]->codecarbon<3.0.0,>=2.8.3->simvue==2.0.0a1) (1.0.7)\n",
            "Requirement already satisfied: anyio in /home/wk9874/.pyenv/versions/3.10.14/lib/python3.10/site-packages (from httpx<0.28.0,>=0.21.3->fief-client[cli]->codecarbon<3.0.0,>=2.8.3->simvue==2.0.0a1) (4.8.0)\n",
            "Requirement already satisfied: sniffio in /home/wk9874/.pyenv/versions/3.10.14/lib/python3.10/site-packages (from httpx<0.28.0,>=0.21.3->fief-client[cli]->codecarbon<3.0.0,>=2.8.3->simvue==2.0.0a1) (1.3.1)\n",
            "Requirement already satisfied: h11<0.15,>=0.13 in /home/wk9874/.pyenv/versions/3.10.14/lib/python3.10/site-packages (from httpcore==1.*->httpx<0.28.0,>=0.21.3->fief-client[cli]->codecarbon<3.0.0,>=2.8.3->simvue==2.0.0a1) (0.14.0)\n",
            "Requirement already satisfied: cryptography>=3.4 in /home/wk9874/.pyenv/versions/3.10.14/lib/python3.10/site-packages (from jwcrypto<2.0.0,>=1.4->fief-client[cli]->codecarbon<3.0.0,>=2.8.3->simvue==2.0.0a1) (43.0.0)\n",
            "Requirement already satisfied: mdurl~=0.1 in /home/wk9874/.pyenv/versions/3.10.14/lib/python3.10/site-packages (from markdown-it-py>=2.2.0->rich->codecarbon<3.0.0,>=2.8.3->simvue==2.0.0a1) (0.1.2)\n",
            "Requirement already satisfied: wcwidth in /home/wk9874/.pyenv/versions/3.10.14/lib/python3.10/site-packages (from prompt_toolkit<4.0,>=2.0->questionary->codecarbon<3.0.0,>=2.8.3->simvue==2.0.0a1) (0.2.13)\n",
            "Requirement already satisfied: cffi>=1.12 in /home/wk9874/.pyenv/versions/3.10.14/lib/python3.10/site-packages (from cryptography>=3.4->jwcrypto<2.0.0,>=1.4->fief-client[cli]->codecarbon<3.0.0,>=2.8.3->simvue==2.0.0a1) (1.17.0)\n",
            "Requirement already satisfied: exceptiongroup>=1.0.2 in /home/wk9874/.pyenv/versions/3.10.14/lib/python3.10/site-packages (from anyio->httpx<0.28.0,>=0.21.3->fief-client[cli]->codecarbon<3.0.0,>=2.8.3->simvue==2.0.0a1) (1.2.2)\n",
            "Requirement already satisfied: pycparser in /home/wk9874/.pyenv/versions/3.10.14/lib/python3.10/site-packages (from cffi>=1.12->cryptography>=3.4->jwcrypto<2.0.0,>=1.4->fief-client[cli]->codecarbon<3.0.0,>=2.8.3->simvue==2.0.0a1) (2.22)\n",
            "\n",
            "\u001b[1m[\u001b[0m\u001b[34;49mnotice\u001b[0m\u001b[1;39;49m]\u001b[0m\u001b[39;49m A new release of pip is available: \u001b[0m\u001b[31;49m23.0.1\u001b[0m\u001b[39;49m -> \u001b[0m\u001b[32;49m25.0.1\u001b[0m\n",
            "\u001b[1m[\u001b[0m\u001b[34;49mnotice\u001b[0m\u001b[1;39;49m]\u001b[0m\u001b[39;49m To update, run: \u001b[0m\u001b[32;49mpip install --upgrade pip\u001b[0m\n"
          ]
        }
      ],
      "source": [
        "!pip install simvue==2.0.0a1 numpy"
      ]
    },
    {
      "cell_type": "markdown",
      "metadata": {
        "colab_type": "text",
        "id": "wKJ4bd5rt1wy"
      },
      "source": [
        "\n",
        "### Initialisation\n",
        "To proceed you need to specify the URL of the Simvue server and provide an access token used to authenticate to the server. This can be done by either creating a `simvue.toml` file containing the required details, or specifying them as environment variables.\n",
        "\n",
        "Login to https://app.simvue.io, go to the **Runs** page and click **Create new run**. Copy the 'token' from here. The run the cell below, paste the token into the box when prompted and push enter."
      ]
    },
    {
      "cell_type": "code",
      "execution_count": 3,
      "metadata": {},
      "outputs": [],
      "source": [
        "# The following avoids tokens being stored in the notebook\n",
        "import os\n",
        "import getpass\n",
        "\n",
        "os.environ[\"SIMVUE_URL\"] = \"https://nightly.simvue.io\"\n",
        "\n",
        "os.environ[\"SIMVUE_TOKEN\"] = getpass.getpass(prompt=\"Token: \")"
      ]
    },
    {
      "cell_type": "markdown",
      "metadata": {},
      "source": [
        "### Example Simulation - Random Numbers\n",
        "As a simple example, we are going to create a piece of code which generates a sequence of random numbers over time, and calculates the mean and median values. We will want to track how these averages vary over time, and have Simvue trigger an alert if they fall outside of expected parameters.\n",
        "\n",
        "The first thing we want to do is initialize our Simvue run. To do this we import the `Run` object from Simvue, and use it as a context manager:"
      ]
    },
    {
      "cell_type": "code",
      "execution_count": null,
      "metadata": {},
      "outputs": [],
      "source": [
        "from simvue import Run\n",
        "import time\n",
        "import random\n",
        "import numpy\n",
        "\n",
        "with Run() as run:\n",
        "    # Initialize a run on the server, optionally providing a name, tags, folder etc\n",
        "    run.init(\n",
        "        name=\"random-numbers-example-%d\" % time.time(),\n",
        "        tags=[\"example\", \"random-numbers\"],\n",
        "        folder=\"/examples\",\n",
        "    )\n",
        "    \n",
        "    # Initialise an empty array which expects integers to store our random numbers in\n",
        "    all_numbers = numpy.array([], dtype=numpy.int64)  \n",
        "    \n",
        "    # Create our 'simulation' to track\n",
        "    for i in range(0, 120):\n",
        "        \n",
        "        # Generate random numbers and find the averages\n",
        "        random_number = random.randint(0, 10)\n",
        "        all_numbers = numpy.append(all_numbers, random_number)\n",
        "        mean = float(numpy.average(all_numbers))\n",
        "        median = int(numpy.median(all_numbers)) \n",
        "        \n",
        "        # We can then use simvue to track the values of these metrics\n",
        "        run.log_metrics(\n",
        "            {\n",
        "                \"random_number\": random_number,\n",
        "                \"average.mean\": mean,\n",
        "                \"average.median\": median\n",
        "            }\n",
        "        )\n",
        "        \n",
        "    \n"
      ]
    },
    {
      "cell_type": "markdown",
      "metadata": {},
      "source": [
        "### To view the results login to https://app.simvue.io"
      ]
    }
  ],
  "metadata": {
    "colab": {
      "collapsed_sections": [],
      "name": "colab-github-demo.ipynb",
      "provenance": [],
      "version": "0.3.2"
    },
    "kernelspec": {
      "display_name": "Python 3",
      "language": "python",
      "name": "python3"
    },
    "language_info": {
      "codemirror_mode": {
        "name": "ipython",
        "version": 3
      },
      "file_extension": ".py",
      "mimetype": "text/x-python",
      "name": "python",
      "nbconvert_exporter": "python",
      "pygments_lexer": "ipython3",
      "version": "3.10.14"
    }
  },
  "nbformat": 4,
  "nbformat_minor": 0
}
