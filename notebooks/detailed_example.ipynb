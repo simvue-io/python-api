{
 "cells": [
  {
   "cell_type": "markdown",
   "metadata": {},
   "source": [
    "<p align=\"center\">\n",
    "  <picture>\n",
    "    <source media=\"(prefers-color-scheme: dark)\" srcset=\"https://raw.githubusercontent.com/simvue-io/.github/refs/heads/main/simvue-white.png\" />\n",
    "    <source media=\"(prefers-color-scheme: light)\" srcset=\"https://raw.githubusercontent.com/simvue-io/.github/refs/heads/main/simvue-black.png\" />\n",
    "    <img alt=\"Simvue\" src=\"https://github.com/simvue-io/.github/blob/5eb8cfd2edd3269259eccd508029f269d993282f/simvue-black.png\" width=\"500\">\n",
    "  </picture>\n",
    "</p>\n",
    "\n",
    "# Detailed Example using Simpy\n",
    "This is a more detailed example of using Simvue to track and monitor a simulation. In this case we are going to use a package called Simpy to models a bank counter and customers arriving at random times. Each customer has a certain patience. They wait to get to the counter until they're at the end of their tether. If they get to the counter, they uses it for a while before releasing it for the next customer to use.\n",
    "\n",
    "This is based on the Bank Renege example from the Simpy documentation - [see the full example here](https://simpy.readthedocs.io/en/latest/examples/bank_renege.html)\n"
   ]
  },
  {
   "cell_type": "markdown",
   "metadata": {},
   "source": [
    "### Install dependencies\n",
    "Install any dependencies if you have not already done so:"
   ]
  },
  {
   "cell_type": "code",
   "execution_count": null,
   "metadata": {},
   "outputs": [
    {
     "name": "stdout",
     "output_type": "stream",
     "text": [
      "Requirement already satisfied: simvue in /home/wk9874/.pyenv/versions/3.10.14/lib/python3.10/site-packages (2.0.0a1)\n",
      "Collecting simpy\n",
      "  Downloading simpy-4.1.1-py3-none-any.whl (27 kB)\n",
      "Requirement already satisfied: pandas<3.0.0,>=2.2.3 in /home/wk9874/.pyenv/versions/3.10.14/lib/python3.10/site-packages (from simvue) (2.2.3)\n",
      "Requirement already satisfied: codecarbon<3.0.0,>=2.8.3 in /home/wk9874/.pyenv/versions/3.10.14/lib/python3.10/site-packages (from simvue) (2.8.3)\n",
      "Requirement already satisfied: humanfriendly<11.0,>=10.0 in /home/wk9874/.pyenv/versions/3.10.14/lib/python3.10/site-packages (from simvue) (10.0)\n",
      "Requirement already satisfied: numpy<3.0.0,>=2.0.0 in /home/wk9874/.pyenv/versions/3.10.14/lib/python3.10/site-packages (from simvue) (2.2.3)\n",
      "Requirement already satisfied: deepmerge<3.0,>=2.0 in /home/wk9874/.pyenv/versions/3.10.14/lib/python3.10/site-packages (from simvue) (2.0)\n",
      "Requirement already satisfied: gitpython<4.0.0,>=3.1.44 in /home/wk9874/.pyenv/versions/3.10.14/lib/python3.10/site-packages (from simvue) (3.1.44)\n",
      "Requirement already satisfied: tabulate<0.10.0,>=0.9.0 in /home/wk9874/.pyenv/versions/3.10.14/lib/python3.10/site-packages (from simvue) (0.9.0)\n",
      "Requirement already satisfied: pyjwt<3.0.0,>=2.10.1 in /home/wk9874/.pyenv/versions/3.10.14/lib/python3.10/site-packages (from simvue) (2.10.1)\n",
      "Requirement already satisfied: psutil<7.0.0,>=6.1.1 in /home/wk9874/.pyenv/versions/3.10.14/lib/python3.10/site-packages (from simvue) (6.1.1)\n",
      "Requirement already satisfied: typing-extensions<5.0.0,>=4.12.2 in /home/wk9874/.pyenv/versions/3.10.14/lib/python3.10/site-packages (from simvue) (4.12.2)\n",
      "Requirement already satisfied: flatdict<5.0.0,>=4.0.1 in /home/wk9874/.pyenv/versions/3.10.14/lib/python3.10/site-packages (from simvue) (4.0.1)\n",
      "Requirement already satisfied: randomname<0.3.0,>=0.2.1 in /home/wk9874/.pyenv/versions/3.10.14/lib/python3.10/site-packages (from simvue) (0.2.1)\n",
      "Requirement already satisfied: toml<0.11.0,>=0.10.2 in /home/wk9874/.pyenv/versions/3.10.14/lib/python3.10/site-packages (from simvue) (0.10.2)\n",
      "Requirement already satisfied: click<9.0.0,>=8.1.8 in /home/wk9874/.pyenv/versions/3.10.14/lib/python3.10/site-packages (from simvue) (8.1.8)\n",
      "Requirement already satisfied: semver<4.0.0,>=3.0.4 in /home/wk9874/.pyenv/versions/3.10.14/lib/python3.10/site-packages (from simvue) (3.0.4)\n",
      "Requirement already satisfied: pydantic<3.0.0,>=2.10.6 in /home/wk9874/.pyenv/versions/3.10.14/lib/python3.10/site-packages (from simvue) (2.10.6)\n",
      "Requirement already satisfied: requests<3.0.0,>=2.32.3 in /home/wk9874/.pyenv/versions/3.10.14/lib/python3.10/site-packages (from simvue) (2.32.3)\n",
      "Requirement already satisfied: msgpack<2.0.0,>=1.1.0 in /home/wk9874/.pyenv/versions/3.10.14/lib/python3.10/site-packages (from simvue) (1.1.0)\n",
      "Requirement already satisfied: tenacity<10.0.0,>=9.0.0 in /home/wk9874/.pyenv/versions/3.10.14/lib/python3.10/site-packages (from simvue) (9.0.0)\n",
      "Requirement already satisfied: email-validator<3.0.0,>=2.2.0 in /home/wk9874/.pyenv/versions/3.10.14/lib/python3.10/site-packages (from simvue) (2.2.0)\n",
      "Requirement already satisfied: fief-client[cli] in /home/wk9874/.pyenv/versions/3.10.14/lib/python3.10/site-packages (from codecarbon<3.0.0,>=2.8.3->simvue) (0.20.0)\n",
      "Requirement already satisfied: arrow in /home/wk9874/.pyenv/versions/3.10.14/lib/python3.10/site-packages (from codecarbon<3.0.0,>=2.8.3->simvue) (1.3.0)\n",
      "Requirement already satisfied: prometheus-client in /home/wk9874/.pyenv/versions/3.10.14/lib/python3.10/site-packages (from codecarbon<3.0.0,>=2.8.3->simvue) (0.21.1)\n",
      "Requirement already satisfied: py-cpuinfo in /home/wk9874/.pyenv/versions/3.10.14/lib/python3.10/site-packages (from codecarbon<3.0.0,>=2.8.3->simvue) (9.0.0)\n",
      "Requirement already satisfied: pynvml in /home/wk9874/.pyenv/versions/3.10.14/lib/python3.10/site-packages (from codecarbon<3.0.0,>=2.8.3->simvue) (12.0.0)\n",
      "Requirement already satisfied: typer in /home/wk9874/.pyenv/versions/3.10.14/lib/python3.10/site-packages (from codecarbon<3.0.0,>=2.8.3->simvue) (0.15.1)\n",
      "Requirement already satisfied: rich in /home/wk9874/.pyenv/versions/3.10.14/lib/python3.10/site-packages (from codecarbon<3.0.0,>=2.8.3->simvue) (13.7.1)\n",
      "Requirement already satisfied: questionary in /home/wk9874/.pyenv/versions/3.10.14/lib/python3.10/site-packages (from codecarbon<3.0.0,>=2.8.3->simvue) (2.1.0)\n",
      "Requirement already satisfied: rapidfuzz in /home/wk9874/.pyenv/versions/3.10.14/lib/python3.10/site-packages (from codecarbon<3.0.0,>=2.8.3->simvue) (3.9.6)\n",
      "Requirement already satisfied: dnspython>=2.0.0 in /home/wk9874/.pyenv/versions/3.10.14/lib/python3.10/site-packages (from email-validator<3.0.0,>=2.2.0->simvue) (2.7.0)\n",
      "Requirement already satisfied: idna>=2.0.0 in /home/wk9874/.pyenv/versions/3.10.14/lib/python3.10/site-packages (from email-validator<3.0.0,>=2.2.0->simvue) (3.7)\n",
      "Requirement already satisfied: gitdb<5,>=4.0.1 in /home/wk9874/.pyenv/versions/3.10.14/lib/python3.10/site-packages (from gitpython<4.0.0,>=3.1.44->simvue) (4.0.12)\n",
      "Requirement already satisfied: python-dateutil>=2.8.2 in /home/wk9874/.pyenv/versions/3.10.14/lib/python3.10/site-packages (from pandas<3.0.0,>=2.2.3->simvue) (2.9.0.post0)\n",
      "Requirement already satisfied: pytz>=2020.1 in /home/wk9874/.pyenv/versions/3.10.14/lib/python3.10/site-packages (from pandas<3.0.0,>=2.2.3->simvue) (2025.1)\n",
      "Requirement already satisfied: tzdata>=2022.7 in /home/wk9874/.pyenv/versions/3.10.14/lib/python3.10/site-packages (from pandas<3.0.0,>=2.2.3->simvue) (2025.1)\n",
      "Requirement already satisfied: pydantic-core==2.27.2 in /home/wk9874/.pyenv/versions/3.10.14/lib/python3.10/site-packages (from pydantic<3.0.0,>=2.10.6->simvue) (2.27.2)\n",
      "Requirement already satisfied: annotated-types>=0.6.0 in /home/wk9874/.pyenv/versions/3.10.14/lib/python3.10/site-packages (from pydantic<3.0.0,>=2.10.6->simvue) (0.7.0)\n",
      "Requirement already satisfied: fire in /home/wk9874/.pyenv/versions/3.10.14/lib/python3.10/site-packages (from randomname<0.3.0,>=0.2.1->simvue) (0.7.0)\n",
      "Requirement already satisfied: urllib3<3,>=1.21.1 in /home/wk9874/.pyenv/versions/3.10.14/lib/python3.10/site-packages (from requests<3.0.0,>=2.32.3->simvue) (2.2.2)\n",
      "Requirement already satisfied: charset-normalizer<4,>=2 in /home/wk9874/.pyenv/versions/3.10.14/lib/python3.10/site-packages (from requests<3.0.0,>=2.32.3->simvue) (3.3.2)\n",
      "Requirement already satisfied: certifi>=2017.4.17 in /home/wk9874/.pyenv/versions/3.10.14/lib/python3.10/site-packages (from requests<3.0.0,>=2.32.3->simvue) (2024.7.4)\n",
      "Requirement already satisfied: smmap<6,>=3.0.1 in /home/wk9874/.pyenv/versions/3.10.14/lib/python3.10/site-packages (from gitdb<5,>=4.0.1->gitpython<4.0.0,>=3.1.44->simvue) (5.0.2)\n",
      "Requirement already satisfied: six>=1.5 in /home/wk9874/.pyenv/versions/3.10.14/lib/python3.10/site-packages (from python-dateutil>=2.8.2->pandas<3.0.0,>=2.2.3->simvue) (1.16.0)\n",
      "Requirement already satisfied: types-python-dateutil>=2.8.10 in /home/wk9874/.pyenv/versions/3.10.14/lib/python3.10/site-packages (from arrow->codecarbon<3.0.0,>=2.8.3->simvue) (2.9.0.20241206)\n",
      "Requirement already satisfied: httpx<0.28.0,>=0.21.3 in /home/wk9874/.pyenv/versions/3.10.14/lib/python3.10/site-packages (from fief-client[cli]->codecarbon<3.0.0,>=2.8.3->simvue) (0.27.2)\n",
      "Requirement already satisfied: jwcrypto<2.0.0,>=1.4 in /home/wk9874/.pyenv/versions/3.10.14/lib/python3.10/site-packages (from fief-client[cli]->codecarbon<3.0.0,>=2.8.3->simvue) (1.5.6)\n",
      "Requirement already satisfied: yaspin in /home/wk9874/.pyenv/versions/3.10.14/lib/python3.10/site-packages (from fief-client[cli]->codecarbon<3.0.0,>=2.8.3->simvue) (3.1.0)\n",
      "Requirement already satisfied: termcolor in /home/wk9874/.pyenv/versions/3.10.14/lib/python3.10/site-packages (from fire->randomname<0.3.0,>=0.2.1->simvue) (2.3.0)\n",
      "Requirement already satisfied: nvidia-ml-py<13.0.0a0,>=12.0.0 in /home/wk9874/.pyenv/versions/3.10.14/lib/python3.10/site-packages (from pynvml->codecarbon<3.0.0,>=2.8.3->simvue) (12.570.86)\n",
      "Requirement already satisfied: prompt_toolkit<4.0,>=2.0 in /home/wk9874/.pyenv/versions/3.10.14/lib/python3.10/site-packages (from questionary->codecarbon<3.0.0,>=2.8.3->simvue) (3.0.50)\n",
      "Requirement already satisfied: markdown-it-py>=2.2.0 in /home/wk9874/.pyenv/versions/3.10.14/lib/python3.10/site-packages (from rich->codecarbon<3.0.0,>=2.8.3->simvue) (3.0.0)\n",
      "Requirement already satisfied: pygments<3.0.0,>=2.13.0 in /home/wk9874/.pyenv/versions/3.10.14/lib/python3.10/site-packages (from rich->codecarbon<3.0.0,>=2.8.3->simvue) (2.18.0)\n",
      "Requirement already satisfied: shellingham>=1.3.0 in /home/wk9874/.pyenv/versions/3.10.14/lib/python3.10/site-packages (from typer->codecarbon<3.0.0,>=2.8.3->simvue) (1.5.4)\n",
      "Requirement already satisfied: httpcore==1.* in /home/wk9874/.pyenv/versions/3.10.14/lib/python3.10/site-packages (from httpx<0.28.0,>=0.21.3->fief-client[cli]->codecarbon<3.0.0,>=2.8.3->simvue) (1.0.7)\n",
      "Requirement already satisfied: anyio in /home/wk9874/.pyenv/versions/3.10.14/lib/python3.10/site-packages (from httpx<0.28.0,>=0.21.3->fief-client[cli]->codecarbon<3.0.0,>=2.8.3->simvue) (4.8.0)\n",
      "Requirement already satisfied: sniffio in /home/wk9874/.pyenv/versions/3.10.14/lib/python3.10/site-packages (from httpx<0.28.0,>=0.21.3->fief-client[cli]->codecarbon<3.0.0,>=2.8.3->simvue) (1.3.1)\n",
      "Requirement already satisfied: h11<0.15,>=0.13 in /home/wk9874/.pyenv/versions/3.10.14/lib/python3.10/site-packages (from httpcore==1.*->httpx<0.28.0,>=0.21.3->fief-client[cli]->codecarbon<3.0.0,>=2.8.3->simvue) (0.14.0)\n",
      "Requirement already satisfied: cryptography>=3.4 in /home/wk9874/.pyenv/versions/3.10.14/lib/python3.10/site-packages (from jwcrypto<2.0.0,>=1.4->fief-client[cli]->codecarbon<3.0.0,>=2.8.3->simvue) (43.0.0)\n",
      "Requirement already satisfied: mdurl~=0.1 in /home/wk9874/.pyenv/versions/3.10.14/lib/python3.10/site-packages (from markdown-it-py>=2.2.0->rich->codecarbon<3.0.0,>=2.8.3->simvue) (0.1.2)\n",
      "Requirement already satisfied: wcwidth in /home/wk9874/.pyenv/versions/3.10.14/lib/python3.10/site-packages (from prompt_toolkit<4.0,>=2.0->questionary->codecarbon<3.0.0,>=2.8.3->simvue) (0.2.13)\n",
      "Requirement already satisfied: cffi>=1.12 in /home/wk9874/.pyenv/versions/3.10.14/lib/python3.10/site-packages (from cryptography>=3.4->jwcrypto<2.0.0,>=1.4->fief-client[cli]->codecarbon<3.0.0,>=2.8.3->simvue) (1.17.0)\n",
      "Requirement already satisfied: exceptiongroup>=1.0.2 in /home/wk9874/.pyenv/versions/3.10.14/lib/python3.10/site-packages (from anyio->httpx<0.28.0,>=0.21.3->fief-client[cli]->codecarbon<3.0.0,>=2.8.3->simvue) (1.2.2)\n",
      "Requirement already satisfied: pycparser in /home/wk9874/.pyenv/versions/3.10.14/lib/python3.10/site-packages (from cffi>=1.12->cryptography>=3.4->jwcrypto<2.0.0,>=1.4->fief-client[cli]->codecarbon<3.0.0,>=2.8.3->simvue) (2.22)\n",
      "Installing collected packages: simpy\n",
      "Successfully installed simpy-4.1.1\n",
      "\n",
      "\u001b[1m[\u001b[0m\u001b[34;49mnotice\u001b[0m\u001b[1;39;49m]\u001b[0m\u001b[39;49m A new release of pip is available: \u001b[0m\u001b[31;49m23.0.1\u001b[0m\u001b[39;49m -> \u001b[0m\u001b[32;49m25.0.1\u001b[0m\n",
      "\u001b[1m[\u001b[0m\u001b[34;49mnotice\u001b[0m\u001b[1;39;49m]\u001b[0m\u001b[39;49m To update, run: \u001b[0m\u001b[32;49mpip install --upgrade pip\u001b[0m\n"
     ]
    }
   ],
   "source": [
    "!pip install simvue simpy numpy"
   ]
  },
  {
   "cell_type": "markdown",
   "metadata": {},
   "source": [
    "\n",
    "### Initialisation\n",
    "To proceed you need to specify the URL of the Simvue server and provide an access token used to authenticate to the server. This can be done by either creating a `simvue.toml` file containing the required details, or specifying them as environment variables.\n",
    "\n",
    "Login to https://app.simvue.io, go to the **Runs** page and click **Create new run**. Copy the 'token' from here. The run the cell below, paste the token into the box when prompted and push enter."
   ]
  },
  {
   "cell_type": "code",
   "execution_count": 7,
   "metadata": {},
   "outputs": [],
   "source": [
    "import os\n",
    "import getpass\n",
    "\n",
    "os.environ[\"SIMVUE_URL\"] = \"https://nightly.simvue.io\"\n",
    "os.environ[\"SIMVUE_TOKEN\"] = getpass.getpass(prompt=\"Token: \")"
   ]
  },
  {
   "cell_type": "markdown",
   "metadata": {},
   "source": [
    "### Creating the Model\n",
    "Now we are going to create our simulation of the bank. Firstly, we will import our required modules and define some constants which will be used throughout the simulation:"
   ]
  },
  {
   "cell_type": "code",
   "execution_count": 11,
   "metadata": {},
   "outputs": [],
   "source": [
    "import random\n",
    "import simpy\n",
    "import simvue\n",
    "import numpy\n",
    "import time\n",
    "\n",
    "RANDOM_SEED = 42 # This makes the simulation reproducible - change it to get a new, randomised simulation\n",
    "NEW_CUSTOMERS = 40  # Total number of customers\n",
    "INTERVAL_CUSTOMERS = 10.0  # Generate new customers roughly every x seconds\n",
    "MIN_PATIENCE = 1  # Minimum customer patience (seconds)\n",
    "MAX_PATIENCE = 5  # Maximmum customer patience (seconds)"
   ]
  },
  {
   "cell_type": "markdown",
   "metadata": {},
   "source": [
    "We then create a function which defines the behaviour of each customer, passing in the following parameters:\n",
    "* **env**: The simulation environment.\n",
    "* **name**: The customer’s name.\n",
    "* **counter**: The resource representing the bank counter.\n",
    "* **time_in_bank**: Average time a customer spends at the counter.\n",
    "* **run**: The Simvue Run object for tracking the simulation"
   ]
  },
  {
   "cell_type": "code",
   "execution_count": 4,
   "metadata": {},
   "outputs": [],
   "source": [
    "def customer(env, name, counter, time_in_bank, run):\n",
    "    \"\"\"Customer arrives, is served and leaves.\"\"\"\n",
    "    arrive = env.now\n",
    "    # Log an event with Simvue for when each customer arrives at the bank\n",
    "    run.log_event(f'{arrive:7.4f} {name}: Here I am!')\n",
    "\n",
    "    # The customer requests to access the counter\n",
    "    with counter.request() as req:\n",
    "        patience = random.uniform(MIN_PATIENCE, MAX_PATIENCE)\n",
    "        \n",
    "        # Wait for the counter to become available, or abort once the customer has ran out of patience\n",
    "        results = yield req | env.timeout(patience)\n",
    "\n",
    "        # Record how long they waited at the counter\n",
    "        wait = env.now - arrive\n",
    "\n",
    "        if req in results:\n",
    "            # The customer got to the counter\n",
    "            \n",
    "            # Log an event to show that they have been served\n",
    "            run.log_event(f'{env.now:7.4f} {name}: SERVED after {wait:6.3f}')\n",
    "            \n",
    "            # The customer then spends a random amount of time at the counter (exponential distribution around the average time we specified)\n",
    "            tib = random.expovariate(1.0 / time_in_bank)\n",
    "            yield env.timeout(tib)\n",
    "            \n",
    "            # Log an event once they have finished being served\n",
    "            run.log_event(f'{env.now:7.4f} {name}: Finished')\n",
    "\n",
    "        else:\n",
    "            # The customer gave up - increment counter and log an event\n",
    "            env.reneged_customers += 1\n",
    "            run.log_event(f'{env.now:7.4f} {name}: RENEGED after {wait:6.3f}')\n",
    "\n",
    "        # Update statistics - record wait time, average wait time for all customers, and percentage who reneged\n",
    "        env.wait_times = numpy.append(env.wait_times, wait)\n",
    "        _average_wait = numpy.mean(env.wait_times)\n",
    "        _percentage_reneged = env.reneged_customers / env.total_customers * 100\n",
    "        \n",
    "        # Log these statistics as metrics to Simvue\n",
    "        run.log_metrics({\"percentage_reneged\": _percentage_reneged, \"average_wait\": _average_wait}, time=env.now)"
   ]
  },
  {
   "cell_type": "markdown",
   "metadata": {},
   "source": [
    "We then define a source function - this is used to generate our bank customers at semi random intervals. We pass in the following variables to this function:\n",
    "* **env**: The simulation environment.\n",
    "* **number**: Number of customers to generate.\n",
    "* **interval**: Average interval between customer arrivals.\n",
    "* **counter**: The resource representing the bank counter.\n",
    "* **run**: The Simvue Run object for tracking the simulation"
   ]
  },
  {
   "cell_type": "code",
   "execution_count": 5,
   "metadata": {},
   "outputs": [],
   "source": [
    "def source(env, number, interval, counter, run):\n",
    "    \"\"\"Source generates customers randomly\"\"\"\n",
    "    # Generate a new customer, process it, and then wait for a random length of time before creating another one\n",
    "    for i in range(number):\n",
    "        env.total_customers += 1\n",
    "        c = customer(env, f'Customer{i:02d}', counter, time_in_bank=12.0, run=run)\n",
    "        env.process(c)\n",
    "        t = random.expovariate(1.0 / interval)\n",
    "        yield env.timeout(t)"
   ]
  },
  {
   "cell_type": "markdown",
   "metadata": {},
   "source": [
    "Next we want to set up our Simvue run and start the simulation. To do this we use the `Run` class from Simvue as a context manager, and call the `init` method. We then add any additional information we want to store, before running the simulation:"
   ]
  },
  {
   "cell_type": "code",
   "execution_count": null,
   "metadata": {},
   "outputs": [
    {
     "name": "stdout",
     "output_type": "stream",
     "text": [
      "\u001b[32m\u001b[1m[simvue] Run bank-customers-example-1740158722 created\u001b[0m\n",
      "\u001b[32m\u001b[1m[simvue] Monitor in the UI at https://nightly.simvue.io/dashboard/runs/run/4YqZawDmUCTYYvXAzE6QQ5\u001b[0m\n"
     ]
    }
   ],
   "source": [
    "# Setup the simulation (will run it in real time)\n",
    "random.seed(RANDOM_SEED)\n",
    "env = simpy.rt.RealtimeEnvironment(factor=1.0, strict=False)\n",
    "\n",
    "# Initialize statisticss as part of the env object\n",
    "env.total_customers = 0\n",
    "env.reneged_customers = 0\n",
    "env.wait_times = numpy.array([])\n",
    "\n",
    "# Start Simvue run as a context manager and initialize the run\n",
    "with simvue.Run() as run:\n",
    "    run.init(\n",
    "        name=\"bank-customers-example-%d\" % time.time(),\n",
    "        folder=\"/examples\",\n",
    "        description=\"Simulate customers being served at a bank, recording the wait times and percentage who don't get served.\",\n",
    "        tags=[\"example\", \"bank-customers\"],\n",
    "        notification=\"all\"\n",
    "    )\n",
    "    \n",
    "    # Upload metadata which corresponds to the variables we defined at the beginning\n",
    "    run.update_metadata(\n",
    "        {\n",
    "            \"random_seed\": RANDOM_SEED,\n",
    "            \"num_customers\": NEW_CUSTOMERS,\n",
    "            \"average_customer_interval\": INTERVAL_CUSTOMERS,\n",
    "            \"customer_min_patience\": MIN_PATIENCE,\n",
    "            \"customer_max_patience\": MAX_PATIENCE\n",
    "        }\n",
    "    )\n",
    "    \n",
    "    # Upload this file as a code artifact\n",
    "    run.save_file(os.path.join(os.getcwd(), \"simvue_detailed_example.ipynb\"), category=\"code\")\n",
    "    \n",
    "    # Add some alerts so that we can be notified if things go wrong\n",
    "    \n",
    "    # For example, could add an Event based alert which is triggered when a customer gives up\n",
    "    run.create_event_alert(\n",
    "        name=\"customer_reneged\",\n",
    "        pattern=\"RENEGED\",\n",
    "        description=\"A bank customer gave up before being served!\"\n",
    "    )\n",
    "    # Or a Metric based alert which is triggered when the percentage reneged is above 40%\n",
    "    run.create_metric_threshold_alert(\n",
    "        name=\"customer_reneged_above_40_percent\",\n",
    "        metric=\"percentage_reneged\",\n",
    "        threshold=40,\n",
    "        rule=\"is above\",\n",
    "        description=\"More than 40 percent of customers are giving up before being served!\",\n",
    "        notification=\"email\",\n",
    "        window=1\n",
    "    )\n",
    "    \n",
    "    # Start processes and run the simulation\n",
    "    counter = simpy.Resource(env, capacity=1)\n",
    "    env.process(source(env, NEW_CUSTOMERS, INTERVAL_CUSTOMERS, counter, run))\n",
    "    env.run()\n",
    "    \n",
    "    # Once simulation is complete, save our array of wait times as an output Artifact\n",
    "    run.save_object(env.wait_times, category='output', name='wait_times')\n",
    "    \n",
    "    # Let's say if more than 50% of customers gave up before being served, our run is a failure\n",
    "    if (env.reneged_customers / env.total_customers) > 0.5:\n",
    "        run.set_status(\"failed\")\n"
   ]
  },
  {
   "cell_type": "markdown",
   "metadata": {},
   "source": [
    "### Results\n",
    "That's it! You can now view the run in the Simvue UI by clicking on the link above. You should be able to see:\n",
    "* A new run has been created in the `/examples` folder, with the name, tags and description which we specified in the `init` method\n",
    "* The run has a set of metadata detailing the variables we used in our simulation, along with some automatically collected information like the Python environment used\n",
    "* This notebook has been uploaded as a Code artifact, and once the simulation has finished our array of wait times is uploaded as an Output artifact\n",
    "* There are two metrics, `average_wait` and `percentage_reneged`, which are updating live as the simulation progresses\n",
    "* The events log shows each customer arriving, waiting, and either being served or reneging\n",
    "* There are two alerts:\n",
    "    - One based on the events log, which should fire near the start of the run when the first customer gives up without being served\n",
    "    - One based on the `percentage_reneged` metric, which fires near the end of the simulation when the percentage of customers who reneged reached 40%. This one should also send you an email\n",
    "* The run's status is set to Failed as the final percentage of customers giving up exceeds 50%\n",
    "* You received an email when the run finished, telling you that it failed\n",
    "\n",
    "Try tweaking the input parameters, and see what effect it has! Compare different runs easily using the Simvue web UI, with the ability to filter based on things like run status, tags, and metadata to identify the runs you care about. and creating custom plots to visualise your results.\n",
    "\n",
    "(If you want to make the simulation run more quickly to experiment, reduce the `factor` parameter)"
   ]
  }
 ],
 "metadata": {
  "kernelspec": {
   "display_name": "Python 3",
   "language": "python",
   "name": "python3"
  },
  "language_info": {
   "codemirror_mode": {
    "name": "ipython",
    "version": 3
   },
   "file_extension": ".py",
   "mimetype": "text/x-python",
   "name": "python",
   "nbconvert_exporter": "python",
   "pygments_lexer": "ipython3",
   "version": "3.10.14"
  }
 },
 "nbformat": 4,
 "nbformat_minor": 2
}
