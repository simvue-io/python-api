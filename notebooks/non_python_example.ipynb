{
 "cells": [
  {
   "cell_type": "markdown",
   "metadata": {},
   "source": [
    "<a href=\"https://colab.research.google.com/drive/1GHItQvWS9HBUoTmdZxDYnGq0wfmdYhsc?usp=sharing\" target=\"_parent\"><img src=\"https://colab.research.google.com/assets/colab-badge.svg\" alt=\"Open In Colab\"/></a>"
   ]
  },
  {
   "cell_type": "markdown",
   "metadata": {},
   "source": [
    "<p align=\"center\">\n",
    "  <picture>\n",
    "    <source media=\"(prefers-color-scheme: dark)\" srcset=\"https://raw.githubusercontent.com/simvue-io/.github/refs/heads/main/simvue-white.png\" />\n",
    "    <source media=\"(prefers-color-scheme: light)\" srcset=\"https://raw.githubusercontent.com/simvue-io/.github/refs/heads/main/simvue-black.png\" />\n",
    "    <img alt=\"Simvue\" src=\"https://github.com/simvue-io/.github/blob/5eb8cfd2edd3269259eccd508029f269d993282f/simvue-black.png\" width=\"500\">\n",
    "  </picture>\n",
    "</p>\n",
    "\n",
    "# Example tracking a Non-Python Simulation\n",
    "This is an example of how you can use Simvue with Multiparser to track and monitor a non-Python simulation or other computational task. We will use a simple bash script to create some dummy 'temperature' data, looking at an experiment where the sample which is heated in an electric oven (causing its temperature to increase linearly), and then is taken out of the oven to cool down (losing temperature exponentially). We will then track this using the output file which is created during the experiment.\n",
    "\n",
    "Note that for some common simulation softwares, we already have custom made integrations packages which can be used. These include:\n",
    "* MOOSE (Multiphysics Object Oriented Simulation Environment)\n",
    "* OpenFOAM\n",
    "* FDS (Fire Dynamics Simulator)\n",
    "* TensorFlow\n"
   ]
  },
  {
   "cell_type": "markdown",
   "metadata": {},
   "source": [
    "### Install dependencies\n",
    "While you can use Simvue and Multiparser individually to achieve the tracking and monitoring of Non-Python files, we recommend using the `simvue-integrations` package which wraps these both together into a handy `WrappedRun` class. Install this if you have not done so already:"
   ]
  },
  {
   "cell_type": "code",
   "execution_count": 5,
   "metadata": {},
   "outputs": [
    {
     "name": "stdout",
     "output_type": "stream",
     "text": [
      "Collecting git+https://github.com/simvue-io/integrations.git\n",
      "  Cloning https://github.com/simvue-io/integrations.git to /tmp/pip-req-build-km5ajc3z\n",
      "  Running command git clone --filter=blob:none --quiet https://github.com/simvue-io/integrations.git /tmp/pip-req-build-km5ajc3z\n",
      "  Resolved https://github.com/simvue-io/integrations.git to commit b4975479df361af3d69a107389fe222b6022edd5\n",
      "  Installing build dependencies ... \u001b[?25ldone\n",
      "\u001b[?25h  Getting requirements to build wheel ... \u001b[?25ldone\n",
      "\u001b[?25h  Preparing metadata (pyproject.toml) ... \u001b[?25ldone\n",
      "\u001b[?25hRequirement already satisfied: simvue==v2.0.0a1 in /home/wk9874/Documents/simvue/python-api/.venv/lib/python3.10/site-packages (from simvue-integrations==0.1.0) (2.0.0a1)\n",
      "Requirement already satisfied: ukaea-multiparser<2.0.0,>=1.0.2 in /home/wk9874/Documents/simvue/python-api/.venv/lib/python3.10/site-packages (from simvue-integrations==0.1.0) (1.0.4)\n",
      "Requirement already satisfied: click<9.0.0,>=8.1.8 in /home/wk9874/Documents/simvue/python-api/.venv/lib/python3.10/site-packages (from simvue==v2.0.0a1->simvue-integrations==0.1.0) (8.1.8)\n",
      "Requirement already satisfied: codecarbon<3.0.0,>=2.8.3 in /home/wk9874/Documents/simvue/python-api/.venv/lib/python3.10/site-packages (from simvue==v2.0.0a1->simvue-integrations==0.1.0) (2.8.3)\n",
      "Requirement already satisfied: deepmerge<3.0,>=2.0 in /home/wk9874/Documents/simvue/python-api/.venv/lib/python3.10/site-packages (from simvue==v2.0.0a1->simvue-integrations==0.1.0) (2.0)\n",
      "Requirement already satisfied: email-validator<3.0.0,>=2.2.0 in /home/wk9874/Documents/simvue/python-api/.venv/lib/python3.10/site-packages (from simvue==v2.0.0a1->simvue-integrations==0.1.0) (2.2.0)\n",
      "Requirement already satisfied: flatdict<5.0.0,>=4.0.1 in /home/wk9874/Documents/simvue/python-api/.venv/lib/python3.10/site-packages (from simvue==v2.0.0a1->simvue-integrations==0.1.0) (4.0.1)\n",
      "Requirement already satisfied: gitpython<4.0.0,>=3.1.44 in /home/wk9874/Documents/simvue/python-api/.venv/lib/python3.10/site-packages (from simvue==v2.0.0a1->simvue-integrations==0.1.0) (3.1.44)\n",
      "Requirement already satisfied: humanfriendly<11.0,>=10.0 in /home/wk9874/Documents/simvue/python-api/.venv/lib/python3.10/site-packages (from simvue==v2.0.0a1->simvue-integrations==0.1.0) (10.0)\n",
      "Requirement already satisfied: msgpack<2.0.0,>=1.1.0 in /home/wk9874/Documents/simvue/python-api/.venv/lib/python3.10/site-packages (from simvue==v2.0.0a1->simvue-integrations==0.1.0) (1.1.0)\n",
      "Requirement already satisfied: numpy<3.0.0,>=2.0.0 in /home/wk9874/Documents/simvue/python-api/.venv/lib/python3.10/site-packages (from simvue==v2.0.0a1->simvue-integrations==0.1.0) (2.2.3)\n",
      "Requirement already satisfied: pandas<3.0.0,>=2.2.3 in /home/wk9874/Documents/simvue/python-api/.venv/lib/python3.10/site-packages (from simvue==v2.0.0a1->simvue-integrations==0.1.0) (2.2.3)\n",
      "Requirement already satisfied: psutil<7.0.0,>=6.1.1 in /home/wk9874/Documents/simvue/python-api/.venv/lib/python3.10/site-packages (from simvue==v2.0.0a1->simvue-integrations==0.1.0) (6.1.1)\n",
      "Requirement already satisfied: pydantic<3.0.0,>=2.10.6 in /home/wk9874/Documents/simvue/python-api/.venv/lib/python3.10/site-packages (from simvue==v2.0.0a1->simvue-integrations==0.1.0) (2.10.6)\n",
      "Requirement already satisfied: pyjwt<3.0.0,>=2.10.1 in /home/wk9874/Documents/simvue/python-api/.venv/lib/python3.10/site-packages (from simvue==v2.0.0a1->simvue-integrations==0.1.0) (2.10.1)\n",
      "Requirement already satisfied: randomname<0.3.0,>=0.2.1 in /home/wk9874/Documents/simvue/python-api/.venv/lib/python3.10/site-packages (from simvue==v2.0.0a1->simvue-integrations==0.1.0) (0.2.1)\n",
      "Requirement already satisfied: requests<3.0.0,>=2.32.3 in /home/wk9874/Documents/simvue/python-api/.venv/lib/python3.10/site-packages (from simvue==v2.0.0a1->simvue-integrations==0.1.0) (2.32.3)\n",
      "Requirement already satisfied: semver<4.0.0,>=3.0.4 in /home/wk9874/Documents/simvue/python-api/.venv/lib/python3.10/site-packages (from simvue==v2.0.0a1->simvue-integrations==0.1.0) (3.0.4)\n",
      "Requirement already satisfied: tabulate<0.10.0,>=0.9.0 in /home/wk9874/Documents/simvue/python-api/.venv/lib/python3.10/site-packages (from simvue==v2.0.0a1->simvue-integrations==0.1.0) (0.9.0)\n",
      "Requirement already satisfied: tenacity<10.0.0,>=9.0.0 in /home/wk9874/Documents/simvue/python-api/.venv/lib/python3.10/site-packages (from simvue==v2.0.0a1->simvue-integrations==0.1.0) (9.0.0)\n",
      "Requirement already satisfied: toml<0.11.0,>=0.10.2 in /home/wk9874/Documents/simvue/python-api/.venv/lib/python3.10/site-packages (from simvue==v2.0.0a1->simvue-integrations==0.1.0) (0.10.2)\n",
      "Requirement already satisfied: typing-extensions<5.0.0,>=4.12.2 in /home/wk9874/Documents/simvue/python-api/.venv/lib/python3.10/site-packages (from simvue==v2.0.0a1->simvue-integrations==0.1.0) (4.12.2)\n",
      "Requirement already satisfied: loguru<0.8.0,>=0.7.2 in /home/wk9874/Documents/simvue/python-api/.venv/lib/python3.10/site-packages (from ukaea-multiparser<2.0.0,>=1.0.2->simvue-integrations==0.1.0) (0.7.3)\n",
      "Requirement already satisfied: pyyaml<7.0.0,>=6.0.1 in /home/wk9874/Documents/simvue/python-api/.venv/lib/python3.10/site-packages (from ukaea-multiparser<2.0.0,>=1.0.2->simvue-integrations==0.1.0) (6.0.2)\n",
      "Requirement already satisfied: arrow in /home/wk9874/Documents/simvue/python-api/.venv/lib/python3.10/site-packages (from codecarbon<3.0.0,>=2.8.3->simvue==v2.0.0a1->simvue-integrations==0.1.0) (1.3.0)\n",
      "Requirement already satisfied: fief-client[cli] in /home/wk9874/Documents/simvue/python-api/.venv/lib/python3.10/site-packages (from codecarbon<3.0.0,>=2.8.3->simvue==v2.0.0a1->simvue-integrations==0.1.0) (0.20.0)\n",
      "Requirement already satisfied: prometheus-client in /home/wk9874/Documents/simvue/python-api/.venv/lib/python3.10/site-packages (from codecarbon<3.0.0,>=2.8.3->simvue==v2.0.0a1->simvue-integrations==0.1.0) (0.21.1)\n",
      "Requirement already satisfied: py-cpuinfo in /home/wk9874/Documents/simvue/python-api/.venv/lib/python3.10/site-packages (from codecarbon<3.0.0,>=2.8.3->simvue==v2.0.0a1->simvue-integrations==0.1.0) (9.0.0)\n",
      "Requirement already satisfied: pynvml in /home/wk9874/Documents/simvue/python-api/.venv/lib/python3.10/site-packages (from codecarbon<3.0.0,>=2.8.3->simvue==v2.0.0a1->simvue-integrations==0.1.0) (12.0.0)\n",
      "Requirement already satisfied: questionary in /home/wk9874/Documents/simvue/python-api/.venv/lib/python3.10/site-packages (from codecarbon<3.0.0,>=2.8.3->simvue==v2.0.0a1->simvue-integrations==0.1.0) (2.1.0)\n",
      "Requirement already satisfied: rapidfuzz in /home/wk9874/Documents/simvue/python-api/.venv/lib/python3.10/site-packages (from codecarbon<3.0.0,>=2.8.3->simvue==v2.0.0a1->simvue-integrations==0.1.0) (3.12.1)\n",
      "Requirement already satisfied: rich in /home/wk9874/Documents/simvue/python-api/.venv/lib/python3.10/site-packages (from codecarbon<3.0.0,>=2.8.3->simvue==v2.0.0a1->simvue-integrations==0.1.0) (13.9.4)\n",
      "Requirement already satisfied: typer in /home/wk9874/Documents/simvue/python-api/.venv/lib/python3.10/site-packages (from codecarbon<3.0.0,>=2.8.3->simvue==v2.0.0a1->simvue-integrations==0.1.0) (0.15.1)\n",
      "Requirement already satisfied: dnspython>=2.0.0 in /home/wk9874/Documents/simvue/python-api/.venv/lib/python3.10/site-packages (from email-validator<3.0.0,>=2.2.0->simvue==v2.0.0a1->simvue-integrations==0.1.0) (2.7.0)\n",
      "Requirement already satisfied: idna>=2.0.0 in /home/wk9874/Documents/simvue/python-api/.venv/lib/python3.10/site-packages (from email-validator<3.0.0,>=2.2.0->simvue==v2.0.0a1->simvue-integrations==0.1.0) (3.10)\n",
      "Requirement already satisfied: gitdb<5,>=4.0.1 in /home/wk9874/Documents/simvue/python-api/.venv/lib/python3.10/site-packages (from gitpython<4.0.0,>=3.1.44->simvue==v2.0.0a1->simvue-integrations==0.1.0) (4.0.12)\n",
      "Requirement already satisfied: python-dateutil>=2.8.2 in /home/wk9874/Documents/simvue/python-api/.venv/lib/python3.10/site-packages (from pandas<3.0.0,>=2.2.3->simvue==v2.0.0a1->simvue-integrations==0.1.0) (2.9.0.post0)\n",
      "Requirement already satisfied: pytz>=2020.1 in /home/wk9874/Documents/simvue/python-api/.venv/lib/python3.10/site-packages (from pandas<3.0.0,>=2.2.3->simvue==v2.0.0a1->simvue-integrations==0.1.0) (2025.1)\n",
      "Requirement already satisfied: tzdata>=2022.7 in /home/wk9874/Documents/simvue/python-api/.venv/lib/python3.10/site-packages (from pandas<3.0.0,>=2.2.3->simvue==v2.0.0a1->simvue-integrations==0.1.0) (2025.1)\n",
      "Requirement already satisfied: annotated-types>=0.6.0 in /home/wk9874/Documents/simvue/python-api/.venv/lib/python3.10/site-packages (from pydantic<3.0.0,>=2.10.6->simvue==v2.0.0a1->simvue-integrations==0.1.0) (0.7.0)\n",
      "Requirement already satisfied: pydantic-core==2.27.2 in /home/wk9874/Documents/simvue/python-api/.venv/lib/python3.10/site-packages (from pydantic<3.0.0,>=2.10.6->simvue==v2.0.0a1->simvue-integrations==0.1.0) (2.27.2)\n",
      "Requirement already satisfied: fire in /home/wk9874/Documents/simvue/python-api/.venv/lib/python3.10/site-packages (from randomname<0.3.0,>=0.2.1->simvue==v2.0.0a1->simvue-integrations==0.1.0) (0.7.0)\n",
      "Requirement already satisfied: charset-normalizer<4,>=2 in /home/wk9874/Documents/simvue/python-api/.venv/lib/python3.10/site-packages (from requests<3.0.0,>=2.32.3->simvue==v2.0.0a1->simvue-integrations==0.1.0) (3.4.1)\n",
      "Requirement already satisfied: urllib3<3,>=1.21.1 in /home/wk9874/Documents/simvue/python-api/.venv/lib/python3.10/site-packages (from requests<3.0.0,>=2.32.3->simvue==v2.0.0a1->simvue-integrations==0.1.0) (2.3.0)\n",
      "Requirement already satisfied: certifi>=2017.4.17 in /home/wk9874/Documents/simvue/python-api/.venv/lib/python3.10/site-packages (from requests<3.0.0,>=2.32.3->simvue==v2.0.0a1->simvue-integrations==0.1.0) (2025.1.31)\n",
      "Requirement already satisfied: smmap<6,>=3.0.1 in /home/wk9874/Documents/simvue/python-api/.venv/lib/python3.10/site-packages (from gitdb<5,>=4.0.1->gitpython<4.0.0,>=3.1.44->simvue==v2.0.0a1->simvue-integrations==0.1.0) (5.0.2)\n",
      "Requirement already satisfied: six>=1.5 in /home/wk9874/Documents/simvue/python-api/.venv/lib/python3.10/site-packages (from python-dateutil>=2.8.2->pandas<3.0.0,>=2.2.3->simvue==v2.0.0a1->simvue-integrations==0.1.0) (1.17.0)\n",
      "Requirement already satisfied: types-python-dateutil>=2.8.10 in /home/wk9874/Documents/simvue/python-api/.venv/lib/python3.10/site-packages (from arrow->codecarbon<3.0.0,>=2.8.3->simvue==v2.0.0a1->simvue-integrations==0.1.0) (2.9.0.20241206)\n",
      "Requirement already satisfied: httpx<0.28.0,>=0.21.3 in /home/wk9874/Documents/simvue/python-api/.venv/lib/python3.10/site-packages (from fief-client[cli]->codecarbon<3.0.0,>=2.8.3->simvue==v2.0.0a1->simvue-integrations==0.1.0) (0.27.2)\n",
      "Requirement already satisfied: jwcrypto<2.0.0,>=1.4 in /home/wk9874/Documents/simvue/python-api/.venv/lib/python3.10/site-packages (from fief-client[cli]->codecarbon<3.0.0,>=2.8.3->simvue==v2.0.0a1->simvue-integrations==0.1.0) (1.5.6)\n",
      "Requirement already satisfied: yaspin in /home/wk9874/Documents/simvue/python-api/.venv/lib/python3.10/site-packages (from fief-client[cli]->codecarbon<3.0.0,>=2.8.3->simvue==v2.0.0a1->simvue-integrations==0.1.0) (3.1.0)\n",
      "Requirement already satisfied: termcolor in /home/wk9874/Documents/simvue/python-api/.venv/lib/python3.10/site-packages (from fire->randomname<0.3.0,>=0.2.1->simvue==v2.0.0a1->simvue-integrations==0.1.0) (2.3.0)\n",
      "Requirement already satisfied: nvidia-ml-py<13.0.0a0,>=12.0.0 in /home/wk9874/Documents/simvue/python-api/.venv/lib/python3.10/site-packages (from pynvml->codecarbon<3.0.0,>=2.8.3->simvue==v2.0.0a1->simvue-integrations==0.1.0) (12.570.86)\n",
      "Requirement already satisfied: prompt_toolkit<4.0,>=2.0 in /home/wk9874/Documents/simvue/python-api/.venv/lib/python3.10/site-packages (from questionary->codecarbon<3.0.0,>=2.8.3->simvue==v2.0.0a1->simvue-integrations==0.1.0) (3.0.50)\n",
      "Requirement already satisfied: markdown-it-py>=2.2.0 in /home/wk9874/Documents/simvue/python-api/.venv/lib/python3.10/site-packages (from rich->codecarbon<3.0.0,>=2.8.3->simvue==v2.0.0a1->simvue-integrations==0.1.0) (3.0.0)\n",
      "Requirement already satisfied: pygments<3.0.0,>=2.13.0 in /home/wk9874/Documents/simvue/python-api/.venv/lib/python3.10/site-packages (from rich->codecarbon<3.0.0,>=2.8.3->simvue==v2.0.0a1->simvue-integrations==0.1.0) (2.19.1)\n",
      "Requirement already satisfied: shellingham>=1.3.0 in /home/wk9874/Documents/simvue/python-api/.venv/lib/python3.10/site-packages (from typer->codecarbon<3.0.0,>=2.8.3->simvue==v2.0.0a1->simvue-integrations==0.1.0) (1.5.4)\n",
      "Requirement already satisfied: anyio in /home/wk9874/Documents/simvue/python-api/.venv/lib/python3.10/site-packages (from httpx<0.28.0,>=0.21.3->fief-client[cli]->codecarbon<3.0.0,>=2.8.3->simvue==v2.0.0a1->simvue-integrations==0.1.0) (4.8.0)\n",
      "Requirement already satisfied: httpcore==1.* in /home/wk9874/Documents/simvue/python-api/.venv/lib/python3.10/site-packages (from httpx<0.28.0,>=0.21.3->fief-client[cli]->codecarbon<3.0.0,>=2.8.3->simvue==v2.0.0a1->simvue-integrations==0.1.0) (1.0.7)\n",
      "Requirement already satisfied: sniffio in /home/wk9874/Documents/simvue/python-api/.venv/lib/python3.10/site-packages (from httpx<0.28.0,>=0.21.3->fief-client[cli]->codecarbon<3.0.0,>=2.8.3->simvue==v2.0.0a1->simvue-integrations==0.1.0) (1.3.1)\n",
      "Requirement already satisfied: h11<0.15,>=0.13 in /home/wk9874/Documents/simvue/python-api/.venv/lib/python3.10/site-packages (from httpcore==1.*->httpx<0.28.0,>=0.21.3->fief-client[cli]->codecarbon<3.0.0,>=2.8.3->simvue==v2.0.0a1->simvue-integrations==0.1.0) (0.14.0)\n",
      "Requirement already satisfied: cryptography>=3.4 in /home/wk9874/Documents/simvue/python-api/.venv/lib/python3.10/site-packages (from jwcrypto<2.0.0,>=1.4->fief-client[cli]->codecarbon<3.0.0,>=2.8.3->simvue==v2.0.0a1->simvue-integrations==0.1.0) (44.0.1)\n",
      "Requirement already satisfied: mdurl~=0.1 in /home/wk9874/Documents/simvue/python-api/.venv/lib/python3.10/site-packages (from markdown-it-py>=2.2.0->rich->codecarbon<3.0.0,>=2.8.3->simvue==v2.0.0a1->simvue-integrations==0.1.0) (0.1.2)\n",
      "Requirement already satisfied: wcwidth in /home/wk9874/Documents/simvue/python-api/.venv/lib/python3.10/site-packages (from prompt_toolkit<4.0,>=2.0->questionary->codecarbon<3.0.0,>=2.8.3->simvue==v2.0.0a1->simvue-integrations==0.1.0) (0.2.13)\n",
      "Requirement already satisfied: cffi>=1.12 in /home/wk9874/Documents/simvue/python-api/.venv/lib/python3.10/site-packages (from cryptography>=3.4->jwcrypto<2.0.0,>=1.4->fief-client[cli]->codecarbon<3.0.0,>=2.8.3->simvue==v2.0.0a1->simvue-integrations==0.1.0) (1.17.1)\n",
      "Requirement already satisfied: exceptiongroup>=1.0.2 in /home/wk9874/Documents/simvue/python-api/.venv/lib/python3.10/site-packages (from anyio->httpx<0.28.0,>=0.21.3->fief-client[cli]->codecarbon<3.0.0,>=2.8.3->simvue==v2.0.0a1->simvue-integrations==0.1.0) (1.2.2)\n",
      "Requirement already satisfied: pycparser in /home/wk9874/Documents/simvue/python-api/.venv/lib/python3.10/site-packages (from cffi>=1.12->cryptography>=3.4->jwcrypto<2.0.0,>=1.4->fief-client[cli]->codecarbon<3.0.0,>=2.8.3->simvue==v2.0.0a1->simvue-integrations==0.1.0) (2.22)\n",
      "Building wheels for collected packages: simvue-integrations\n",
      "  Building wheel for simvue-integrations (pyproject.toml) ... \u001b[?25ldone\n",
      "\u001b[?25h  Created wheel for simvue-integrations: filename=simvue_integrations-0.1.0-py3-none-any.whl size=31732 sha256=1d0cba85a517cbf653a6e0ab6df5a40371625b2f6035a47bc30daa36a5a96126\n",
      "  Stored in directory: /tmp/pip-ephem-wheel-cache-h9gjjxxn/wheels/92/f9/b9/eaf80712e9b7f8d7da9379e9b553361ffd45ae107842da9c28\n",
      "Successfully built simvue-integrations\n",
      "Installing collected packages: simvue-integrations\n",
      "Successfully installed simvue-integrations-0.1.0\n"
     ]
    }
   ],
   "source": [
    "!pip install git+https://github.com/simvue-io/integrations.git"
   ]
  },
  {
   "cell_type": "markdown",
   "metadata": {},
   "source": [
    "\n",
    "### Initialisation\n",
    "To proceed you need to specify the URL of the Simvue server and provide an access token used to authenticate to the server. This can be done by either creating a `simvue.toml` file containing the required details, or specifying them as environment variables.\n",
    "\n",
    "Login to https://app.simvue.io, go to the **Runs** page and click **Create new run**. Copy the 'token' from here. The run the cell below, paste the token into the box when prompted and push enter."
   ]
  },
  {
   "cell_type": "code",
   "execution_count": 17,
   "metadata": {},
   "outputs": [],
   "source": [
    "import os\n",
    "import getpass\n",
    "\n",
    "os.environ[\"SIMVUE_URL\"] = \"https://nightly.simvue.io\"\n",
    "os.environ[\"SIMVUE_TOKEN\"] = getpass.getpass(prompt=\"Token: \")"
   ]
  },
  {
   "cell_type": "markdown",
   "metadata": {},
   "source": [
    "### Using the WrappedRun class\n",
    "To track our experiment, we will use the `add_process()` method to launch our bash script which generates the data, and we will use the `file_monitor` object to track our temperature data file. The WrappedRun class contains four methods which can be overridden to tailor to your needs:\n",
    "* `_pre_simulation`: Things to do before any output files are tracked, such as uploading artifacts or launching the simulation\n",
    "* `_during_simulation`: How to track the files created during the simulation and process data from them for upload to Simvue\n",
    "* `_post_simulation`: Things to do after the simulation is complete, such as uploading final results files\n",
    "* `launch`: Start the tracking session, calling each of the three methods above\n",
    "\n",
    "In our case, we want to:\n",
    "* Override `launch` to accept the path to the bash script\n",
    "* Override `_pre_simulation` to upload and run the bash script\n",
    "* Override `_during_simulation` to read from the temperature data as it is written and upload it as a metric\n",
    "\n",
    "Note that `WrappedRun` inherits from Simvue's `Run` class, so contains all of the methods you are already familiar with such as `log_metrics`, `log_events` etc..."
   ]
  },
  {
   "cell_type": "code",
   "execution_count": 26,
   "metadata": {},
   "outputs": [],
   "source": [
    "from simvue_integrations.connectors.generic import WrappedRun\n",
    "import multiparser.parsing.tail as mp_tail_parser\n",
    "import time\n",
    "import pathlib\n",
    "\n",
    "# Create a new class which inherits from WrappedRun\n",
    "class TemperatureRun(WrappedRun):\n",
    "    script_path: pathlib.Path = None\n",
    "    \n",
    "    # Override the `_pre_simulation` method to launch the process\n",
    "    def _pre_simulation(self):\n",
    "        # Call the base method first\n",
    "        super()._pre_simulation()\n",
    "        \n",
    "        # Add a process to the run using `add_process`\n",
    "        self.add_process(\n",
    "            identifier=\"heating_experiment\",\n",
    "            executable=\"bash\",\n",
    "            script=self.script_path,\n",
    "            completion_trigger=self._trigger # Sets a multiprocessing Event once the simulation is completed\n",
    "        )\n",
    "    \n",
    "    # Override the `_during_simulation` method to track the temperature data\n",
    "    def _during_simulation(self):\n",
    "        # Use the `tail` method of the Multiparser `FileMonitor` object to track file, line by line\n",
    "        self.file_monitor.tail(\n",
    "            path_glob_exprs=str(self.script_path.with_suffix(\".csv\")),\n",
    "            parser_func=mp_tail_parser.record_csv, # Use the built-in CSV parser, which returns a dictionary of data and metadata as each line is written\n",
    "            callback=lambda csv_data, metadata: self.log_metrics( # Use data from those two dictionaries to log a metric:\n",
    "                {'sample_temperature': csv_data[\"Temperature\"]},\n",
    "                 time=csv_data[\"Time\"], \n",
    "                 step=csv_data[\"Step\"], \n",
    "                 ) \n",
    "        )\n",
    "    \n",
    "    # Override the `launch` method to accept the path to the bash script\n",
    "    def launch(self, script_path: str):\n",
    "        self.script_path = script_path\n",
    "        # Call the base `launch` method to call the above methods in the correct order\n",
    "        super().launch()\n",
    "                "
   ]
  },
  {
   "cell_type": "markdown",
   "metadata": {},
   "source": [
    "### Using our TemperatureRun class\n",
    "We can then use our `TemperatureRun` class in the same way as we would use the Simvue `Run` class - use it as a context manager, and call the `init` method. We can then add any additional information we want to store, before running the simulation by calling the `launch` method:"
   ]
  },
  {
   "cell_type": "code",
   "execution_count": null,
   "metadata": {},
   "outputs": [
    {
     "name": "stderr",
     "output_type": "stream",
     "text": [
      "WARNING:simvue.config.user:No config file found, checking environment variables\n",
      "WARNING:simvue.config.user:No config file found, checking environment variables\n",
      "WARNING:simvue.config.user:No config file found, checking environment variables\n"
     ]
    },
    {
     "name": "stdout",
     "output_type": "stream",
     "text": [
      "\u001b[32m\u001b[1m[simvue] Run heating-cooling-example-1740402163 created\u001b[0m\n",
      "\u001b[32m\u001b[1m[simvue] Monitor in the UI at https://nightly.simvue.io/dashboard/runs/run/CPnHkfbSYjHThHuyV2CazJ\u001b[0m\n"
     ]
    },
    {
     "name": "stderr",
     "output_type": "stream",
     "text": [
      "WARNING:simvue.config.user:No config file found, checking environment variables\n",
      "WARNING:simvue.config.user:No config file found, checking environment variables\n",
      "ℹ️ | \u001b[32m1:17:53.596705\u001b[0m  | \u001b[1mINFO    \u001b[0m | \u001b[36mmultiparser\u001b[0m | Found NEW log '/home/wk9874/Documents/simvue/python-api/notebooks/temperatures.csv'\n",
      "WARNING:simvue.config.user:No config file found, checking environment variables\n",
      "WARNING:simvue.config.user:No config file found, checking environment variables\n",
      "WARNING:simvue.config.user:No config file found, checking environment variables\n",
      "WARNING:simvue.config.user:No config file found, checking environment variables\n",
      "WARNING:simvue.config.user:No config file found, checking environment variables\n",
      "WARNING:simvue.config.user:No config file found, checking environment variables\n",
      "WARNING:simvue.config.user:No config file found, checking environment variables\n",
      "WARNING:simvue.config.user:No config file found, checking environment variables\n",
      "WARNING:simvue.config.user:No config file found, checking environment variables\n",
      "WARNING:simvue.config.user:No config file found, checking environment variables\n",
      "WARNING:simvue.config.user:No config file found, checking environment variables\n",
      "WARNING:simvue.config.user:No config file found, checking environment variables\n",
      "WARNING:simvue.config.user:No config file found, checking environment variables\n",
      "WARNING:simvue.config.user:No config file found, checking environment variables\n"
     ]
    }
   ],
   "source": [
    "with TemperatureRun() as run:\n",
    "    run.init(\n",
    "        name=\"heating-cooling-example-%d\" % time.time(),\n",
    "        folder=\"/examples\",\n",
    "        description=\"Simulate an experiment where a sample is heated and then left to cool, tracking the temperature.\",\n",
    "        tags=[\"example\", \"heating-cooling\"],\n",
    "    )\n",
    "    # Can upload extra things we care about, eg could upload some metadata\n",
    "    run.update_metadata(\n",
    "        {\n",
    "            \"initial_temperature\": 20,\n",
    "            \"heating_time\": 50,\n",
    "            \"cooling_time\": 100\n",
    "        }\n",
    "    )\n",
    "    # Then run launch to start the experiment\n",
    "    run.launch(pathlib.Path.cwd().joinpath(\"temperatures.sh\"))\n",
    "    \n",
    "    # Then once complete, can upload any other information before closing the run\n",
    "    run.save_file(pathlib.Path.cwd().joinpath(\"temperatures.csv\"), category=\"output\")"
   ]
  }
 ],
 "metadata": {
  "kernelspec": {
   "display_name": ".venv",
   "language": "python",
   "name": "python3"
  },
  "language_info": {
   "codemirror_mode": {
    "name": "ipython",
    "version": 3
   },
   "file_extension": ".py",
   "mimetype": "text/x-python",
   "name": "python",
   "nbconvert_exporter": "python",
   "pygments_lexer": "ipython3",
   "version": "3.10.14"
  }
 },
 "nbformat": 4,
 "nbformat_minor": 2
}
