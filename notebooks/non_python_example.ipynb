{
 "cells": [
  {
   "cell_type": "markdown",
   "metadata": {},
   "source": [
    "<a href=\"https://colab.research.google.com/drive/1fDlJ6xeRmHfDsdqN5ATJ8lTj4lqavTqd?usp=sharing\" target=\"_parent\"><img src=\"https://colab.research.google.com/assets/colab-badge.svg\" alt=\"Open In Colab\"/></a>"
   ]
  },
  {
   "cell_type": "markdown",
   "metadata": {},
   "source": [
    "<p align=\"center\">\n",
    "  <picture>\n",
    "    <source media=\"(prefers-color-scheme: dark)\" srcset=\"https://raw.githubusercontent.com/simvue-io/.github/refs/heads/main/simvue-white.png\" />\n",
    "    <source media=\"(prefers-color-scheme: light)\" srcset=\"https://raw.githubusercontent.com/simvue-io/.github/refs/heads/main/simvue-black.png\" />\n",
    "    <img alt=\"Simvue\" src=\"https://github.com/simvue-io/.github/blob/5eb8cfd2edd3269259eccd508029f269d993282f/simvue-black.png\" width=\"500\">\n",
    "  </picture>\n",
    "</p>\n",
    "\n",
    "# Example tracking a Non-Python Simulation\n",
    "This is an example of how you can use Simvue with Multiparser to track and monitor a non-Python simulation or other computational task. We will use a simple bash script to create some dummy 'temperature' data, looking at an experiment where the sample which is heated in an electric oven (causing its temperature to increase linearly), and then is taken out of the oven to cool down (losing temperature exponentially). We will then track this using the output file which is created during the experiment.\n",
    "\n",
    "Note that for some common simulation softwares, we already have custom made integrations packages which can be used. These include:\n",
    "* MOOSE (Multiphysics Object Oriented Simulation Environment)\n",
    "* OpenFOAM\n",
    "* FDS (Fire Dynamics Simulator)\n",
    "* TensorFlow\n"
   ]
  },
  {
   "cell_type": "markdown",
   "metadata": {},
   "source": [
    "### Install dependencies\n",
    "While you can use Simvue and Multiparser individually to achieve the tracking and monitoring of Non-Python files, we recommend using the `simvue-integrations` package which wraps these both together into a handy `WrappedRun` class. Install this if you have not done so already:"
   ]
  },
  {
   "cell_type": "code",
   "execution_count": null,
   "metadata": {},
   "outputs": [],
   "source": [
    "!pip install git+https://github.com/simvue-io/integrations.git"
   ]
  },
  {
   "cell_type": "markdown",
   "metadata": {},
   "source": [
    "### Initialisation\n",
    "To proceed you need to specify the URL of the Simvue server and provide an access token used to authenticate to the server. This can be done by either creating a `simvue.toml` file containing the required details, or specifying them as environment variables.\n",
    "\n",
    "Login to https://uk.simvue.io, go to the **Runs** page and click **Create new run**. Copy the 'token' from here. The run the cell below, paste the token into the box when prompted and push enter."
   ]
  },
  {
   "cell_type": "code",
   "execution_count": null,
   "metadata": {},
   "outputs": [],
   "source": [
    "import os\n",
    "import getpass\n",
    "\n",
    "os.environ[\"SIMVUE_URL\"] = \"https://uk.simvue.io\"\n",
    "os.environ[\"SIMVUE_TOKEN\"] = getpass.getpass(prompt=\"Token: \")"
   ]
  },
  {
   "cell_type": "markdown",
   "metadata": {},
   "source": [
    "### Using the WrappedRun class\n",
    "To track our experiment, we will use the `add_process()` method to launch our bash script which generates the data, and we will use the `file_monitor` object to track our temperature data file. The WrappedRun class contains four methods which can be overridden to tailor to your needs:\n",
    "* `_pre_simulation`: Things to do before any output files are tracked, such as uploading artifacts or launching the simulation\n",
    "* `_during_simulation`: How to track the files created during the simulation and process data from them for upload to Simvue\n",
    "* `_post_simulation`: Things to do after the simulation is complete, such as uploading final results files\n",
    "* `launch`: Start the tracking session, calling each of the three methods above\n",
    "\n",
    "In our case, we want to:\n",
    "* Override `launch` to accept the path to the bash script\n",
    "* Override `_pre_simulation` to upload and run the bash script\n",
    "* Override `_during_simulation` to read from the temperature data as it is written and upload it as a metric\n",
    "\n",
    "Note that `WrappedRun` inherits from Simvue's `Run` class, so contains all of the methods you are already familiar with such as `log_metrics`, `log_events` etc..."
   ]
  },
  {
   "cell_type": "code",
   "execution_count": null,
   "metadata": {},
   "outputs": [],
   "source": [
    "from simvue_integrations.connectors.generic import WrappedRun\n",
    "import multiparser.parsing.tail as mp_tail_parser\n",
    "import time\n",
    "import pathlib\n",
    "\n",
    "# Create a new class which inherits from WrappedRun\n",
    "class TemperatureRun(WrappedRun):\n",
    "    script_path: pathlib.Path = None\n",
    "    \n",
    "    # Override the `_pre_simulation` method to launch the process\n",
    "    def _pre_simulation(self):\n",
    "        # Call the base method first\n",
    "        super()._pre_simulation()\n",
    "        \n",
    "        # Add a process to the run using `add_process`\n",
    "        self.add_process(\n",
    "            identifier=\"heating_experiment\",\n",
    "            executable=\"bash\",\n",
    "            script=self.script_path,\n",
    "            completion_trigger=self._trigger # Sets a multiprocessing Event once the simulation is completed\n",
    "        )\n",
    "    \n",
    "    # Override the `_during_simulation` method to track the temperature data\n",
    "    def _during_simulation(self):\n",
    "        # Use the `tail` method of the Multiparser `FileMonitor` object to track file, line by line\n",
    "        self.file_monitor.tail(\n",
    "            path_glob_exprs=str(self.script_path.with_suffix(\".csv\")),\n",
    "            parser_func=mp_tail_parser.record_csv, # Use the built-in CSV parser, which returns a dictionary of data and metadata as each line is written\n",
    "            callback=lambda csv_data, metadata: self.log_metrics( # Use data from those two dictionaries to log a metric:\n",
    "                {'sample_temperature': csv_data[\"Temperature\"]},\n",
    "                 time=csv_data[\"Time\"], \n",
    "                 step=csv_data[\"Step\"], \n",
    "                 ) \n",
    "        )\n",
    "    \n",
    "    # Override the `launch` method to accept the path to the bash script\n",
    "    def launch(self, script_path: str):\n",
    "        self.script_path = script_path\n",
    "        # Call the base `launch` method to call the above methods in the correct order\n",
    "        super().launch()\n",
    "                "
   ]
  },
  {
   "cell_type": "markdown",
   "metadata": {},
   "source": [
    "### Using our TemperatureRun class\n",
    "We can then use our `TemperatureRun` class in the same way as we would use the Simvue `Run` class - use it as a context manager, and call the `init` method. We can then add any additional information we want to store, before running the simulation by calling the `launch` method:"
   ]
  },
  {
   "cell_type": "code",
   "execution_count": null,
   "metadata": {},
   "outputs": [],
   "source": [
    "with TemperatureRun() as run:\n",
    "    \n",
    "    run.init(\n",
    "        name=\"heating-cooling-example-%d\" % time.time(),\n",
    "        folder=\"/examples\",\n",
    "        description=\"Simulate an experiment where a sample is heated and then left to cool, tracking the temperature.\",\n",
    "        tags=[\"example\", \"heating-cooling\"],\n",
    "    )\n",
    "    \n",
    "    # Can upload extra things we care about, eg could upload some metadata\n",
    "    run.update_metadata(\n",
    "        {\n",
    "            \"initial_temperature\": 20,\n",
    "            \"heating_time\": 50,\n",
    "            \"cooling_time\": 100\n",
    "        }\n",
    "    )\n",
    "    # Then run launch to start the experiment\n",
    "    run.launch(pathlib.Path.cwd().joinpath(\"temperatures.sh\"))\n",
    "    \n",
    "    # Then once complete, can upload any other information before closing the run\n",
    "    run.save_file(pathlib.Path.cwd().joinpath(\"temperatures.csv\"), category=\"output\")"
   ]
  },
  {
   "cell_type": "markdown",
   "metadata": {},
   "source": [
    "### Results\n",
    "That's it! You can now view the run in the Simvue UI by clicking on the link above. You should be able to see:\n",
    "* A new run has been created in the `/examples` folder, with the name, tags and description which we specified in the `init` method\n",
    "* The run has a set of metadata detailing some of our inputs to the simulation\n",
    "* The simulation was automatically launched as a Simvue process\n",
    "* The bash script used was uploaded as a Code artifact\n",
    "* The temperature is being parsed from the CSV file and uploaded as a metric in real time\n",
    "* Once complete, the CSV results file is uploaded as an Output artifact"
   ]
  }
 ],
 "metadata": {
  "kernelspec": {
   "display_name": "Python 3",
   "language": "python",
   "name": "python3"
  },
  "language_info": {
   "codemirror_mode": {
    "name": "ipython",
    "version": 3
   },
   "file_extension": ".py",
   "mimetype": "text/x-python",
   "name": "python",
   "nbconvert_exporter": "python",
   "pygments_lexer": "ipython3",
   "version": "3.10.14"
  }
 },
 "nbformat": 4,
 "nbformat_minor": 2
}
